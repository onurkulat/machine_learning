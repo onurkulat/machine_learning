{
 "cells": [
  {
   "cell_type": "markdown",
   "metadata": {},
   "source": [
    "# Tahmin(Prediction)"
   ]
  },
  {
   "cell_type": "raw",
   "metadata": {},
   "source": [
    "Kategorik verilerde tahmin yapıldığında sınıflandırma, sayısal verilerde tahmin yapıldıgında tahmin olarak adlandırılıyor.Prediction geçmiş verilerdeki eksik verilerin tahminini de ele alabiliyor\n",
    "\n",
    "Öngörü(Forecasting) ise zaman serisi üzerinde bi tahmin yaptıysak daha sonrası için yapılan tahmindir."
   ]
  },
  {
   "cell_type": "markdown",
   "metadata": {},
   "source": [
    "## Ön İşleme Şablonu "
   ]
  },
  {
   "cell_type": "code",
   "execution_count": 3,
   "metadata": {},
   "outputs": [],
   "source": [
    "#kutuphaneler\n",
    "import numpy as np\n",
    "import matplotlib.pyplot as plt\n",
    "import pandas as pd\n",
    "\n",
    "\n",
    "#veri yukleme\n",
    "\n",
    "veriler = pd.read_csv('satislar.csv')\n",
    "\n",
    "#veri on isleme\n",
    "\n",
    "aylar=veriler[[\"Aylar\"]]\n",
    "#test\n",
    "\n",
    "\n",
    "satislar=veriler[[\"Satislar\"]]\n",
    "#test\n",
    "\n",
    "\n",
    "\n",
    "\n",
    "#Verilerin eğitim ve test için bölünmesi\n",
    "from sklearn.model_selection import train_test_split\n",
    "x_train,x_test,y_train,y_test=train_test_split(aylar,satislar,test_size=0.33,random_state=0)\n",
    "\n",
    "#Verilerin Ölçeklendirilmesi\n",
    "from sklearn.preprocessing import StandardScaler\n",
    "\n",
    "sc=StandardScaler()\n",
    "X_train=sc.fit_transform(x_train)\n",
    "X_test=sc.fit_transform(x_test)"
   ]
  },
  {
   "cell_type": "markdown",
   "metadata": {},
   "source": [
    "## Basit Doğrusal Regresyon(Simple Linear Regression) "
   ]
  },
  {
   "cell_type": "code",
   "execution_count": 4,
   "metadata": {},
   "outputs": [],
   "source": [
    "import numpy as np\n",
    "import matplotlib.pyplot as plt\n",
    "import pandas as pd\n",
    "\n",
    "\n",
    "#veri yukleme\n",
    "\n",
    "veriler = pd.read_csv('satislar.csv')\n",
    "\n",
    "#veri on isleme\n",
    "\n",
    "aylar=veriler[[\"Aylar\"]]\n",
    "#test\n",
    "\n",
    "\n",
    "satislar=veriler[[\"Satislar\"]]\n",
    "#test\n",
    "\n",
    "\n",
    "#Verilerin eğitim ve test için bölünmesi\n",
    "from sklearn.model_selection import train_test_split\n",
    "x_train,x_test,y_train,y_test=train_test_split(aylar,satislar,test_size=0.33,random_state=0)\n",
    "\n",
    "#Verilerin Ölçeklendirilmesi\n",
    "from sklearn.preprocessing import StandardScaler\n",
    "\n",
    "sc=StandardScaler()\n",
    "X_train=sc.fit_transform(x_train)\n",
    "X_test=sc.fit_transform(x_test)\n",
    "\n",
    "Y_train=sc.fit_transform(y_train)\n",
    "Y_test=sc.fit_transform(y_test)\n",
    "\n",
    "\n",
    "#Model İnşası\n",
    "from sklearn.linear_model import LinearRegression\n",
    "lr=LinearRegression()\n",
    "\n",
    "lr.fit(X_train, Y_train)    #X_train ve Y_train bilgilerini kullanarak model inşa et\n",
    "\n",
    "tahmin=lr.predict(X_test)"
   ]
  },
  {
   "cell_type": "code",
   "execution_count": 5,
   "metadata": {},
   "outputs": [
    {
     "name": "stdout",
     "output_type": "stream",
     "text": [
      "[[-1.66597621]\n",
      " [ 1.25819492]\n",
      " [-0.99762385]\n",
      " [-0.7856508 ]\n",
      " [ 1.0709181 ]\n",
      " [ 0.81055426]\n",
      " [ 0.92122098]\n",
      " [-1.04207705]\n",
      " [-0.09933754]\n",
      " [ 0.52977719]]\n"
     ]
    }
   ],
   "source": [
    "#Y_test\n",
    "print(Y_test)"
   ]
  },
  {
   "cell_type": "code",
   "execution_count": 6,
   "metadata": {},
   "outputs": [
    {
     "name": "stdout",
     "output_type": "stream",
     "text": [
      "[[-1.33324088]\n",
      " [ 1.05398097]\n",
      " [-0.65761206]\n",
      " [-0.70265398]\n",
      " [ 0.82877136]\n",
      " [ 0.60356175]\n",
      " [ 0.82877136]\n",
      " [-0.70265398]\n",
      " [-0.29727668]\n",
      " [ 0.37835214]]\n"
     ]
    }
   ],
   "source": [
    "#tahmin\n",
    "print(tahmin)"
   ]
  },
  {
   "cell_type": "code",
   "execution_count": 7,
   "metadata": {},
   "outputs": [],
   "source": [
    "#kutuphaneler\n",
    "import numpy as np\n",
    "import matplotlib.pyplot as plt\n",
    "import pandas as pd\n",
    "\n",
    "\n",
    "#veri yukleme\n",
    "\n",
    "veriler = pd.read_csv('satislar.csv')\n",
    "\n",
    "#veri on isleme\n",
    "\n",
    "aylar=veriler[[\"Aylar\"]]\n",
    "#test\n",
    "\n",
    "\n",
    "satislar=veriler[[\"Satislar\"]]\n",
    "#test\n",
    "\n",
    "\n",
    "#Verilerin eğitim ve test için bölünmesi\n",
    "from sklearn.model_selection import train_test_split\n",
    "x_train,x_test,y_train,y_test=train_test_split(aylar,satislar,test_size=0.33,random_state=0)\n",
    "\n",
    "\n",
    "\n",
    "\n",
    "#Model İnşası\n",
    "from sklearn.linear_model import LinearRegression\n",
    "lr=LinearRegression()\n",
    "\n",
    "lr.fit(x_train, y_train)    #X_train ve Y_train bilgilerini kullanarak model inşa et\n",
    "\n",
    "tahmin=lr.predict(x_test)"
   ]
  },
  {
   "cell_type": "code",
   "execution_count": 8,
   "metadata": {},
   "outputs": [
    {
     "name": "stdout",
     "output_type": "stream",
     "text": [
      "    Satislar\n",
      "2    18865.5\n",
      "28   61195.5\n",
      "13   28540.5\n",
      "10   31609.0\n",
      "26   58484.5\n",
      "24   54715.5\n",
      "27   56317.5\n",
      "11   27897.0\n",
      "17   41544.0\n",
      "22   50651.0\n"
     ]
    }
   ],
   "source": [
    "#y_test\n",
    "print(y_test)"
   ]
  },
  {
   "cell_type": "code",
   "execution_count": 9,
   "metadata": {},
   "outputs": [
    {
     "name": "stdout",
     "output_type": "stream",
     "text": [
      "[[20126.21865404]\n",
      " [57740.29412655]\n",
      " [30771.7117123 ]\n",
      " [30062.01217508]\n",
      " [54191.79644047]\n",
      " [50643.29875438]\n",
      " [54191.79644047]\n",
      " [30062.01217508]\n",
      " [36449.30801003]\n",
      " [47094.80106829]]\n"
     ]
    }
   ],
   "source": [
    "#tahmin\n",
    "print(tahmin)"
   ]
  },
  {
   "cell_type": "markdown",
   "metadata": {},
   "source": [
    "### Doğrusal Regresyon Görselleştirilmesi "
   ]
  },
  {
   "cell_type": "code",
   "execution_count": 10,
   "metadata": {},
   "outputs": [
    {
     "data": {
      "text/plain": [
       "[<matplotlib.lines.Line2D at 0x7f8e21f66a00>]"
      ]
     },
     "execution_count": 10,
     "metadata": {},
     "output_type": "execute_result"
    },
    {
     "data": {
      "image/png": "[encoded data removed]",
      "text/plain": [
       "<Figure size 432x288 with 1 Axes>"
      ]
     },
     "metadata": {
      "needs_background": "light"
     },
     "output_type": "display_data"
    }
   ],
   "source": [
    "import numpy as np\n",
    "import matplotlib.pyplot as plt\n",
    "import pandas as pd\n",
    "\n",
    "\n",
    "#veri yukleme\n",
    "\n",
    "veriler = pd.read_csv('satislar.csv')\n",
    "\n",
    "#veri on isleme\n",
    "\n",
    "aylar=veriler[[\"Aylar\"]]\n",
    "#test\n",
    "\n",
    "\n",
    "satislar=veriler[[\"Satislar\"]]\n",
    "#test\n",
    "\n",
    "\n",
    "#Verilerin eğitim ve test için bölünmesi\n",
    "from sklearn.model_selection import train_test_split\n",
    "x_train,x_test,y_train,y_test=train_test_split(aylar,satislar,test_size=0.33,random_state=0)\n",
    "\n",
    "\n",
    "#Model İnşası\n",
    "from sklearn.linear_model import LinearRegression\n",
    "lr=LinearRegression()\n",
    "\n",
    "lr.fit(x_train, y_train)    #X_train ve Y_train bilgilerini kullanarak model inşa et\n",
    "\n",
    "tahmin=lr.predict(x_test)\n",
    "\n",
    "x_train=x_train.sort_index()\n",
    "y_train=y_train.sort_index()\n",
    "\n",
    "\n",
    "plt.title(\"Aylara Göre Satış\")\n",
    "plt.xlabel(\"Aylar\")\n",
    "plt.ylabel(\"Satışlar\")\n",
    "plt.plot(x_train,y_train)\n",
    "plt.plot(x_test,lr.predict(x_test))"
   ]
  },
  {
   "cell_type": "code",
   "execution_count": null,
   "metadata": {},
   "outputs": [],
   "source": []
  }
 ],
 "metadata": {
  "kernelspec": {
   "display_name": "Python 3",
   "language": "python",
   "name": "python3"
  },
  "language_info": {
   "codemirror_mode": {
    "name": "ipython",
    "version": 3
   },
   "file_extension": ".py",
   "mimetype": "text/x-python",
   "name": "python",
   "nbconvert_exporter": "python",
   "pygments_lexer": "ipython3",
   "version": "3.8.3"
  }
 },
 "nbformat": 4,
 "nbformat_minor": 4
}
