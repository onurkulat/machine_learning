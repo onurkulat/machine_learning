{
 "cells": [
  {
   "cell_type": "markdown",
   "metadata": {},
   "source": [
    "# K-NN (K Nearest Neighborhood) "
   ]
  },
  {
   "cell_type": "raw",
   "metadata": {},
   "source": [
    "k-en yakın komşuluk (KNN) algoritması, uygulaması kolay gözetimli öğrenme algoritmalarındandır. Hem sınıflandırma hem de regresyon problemlerinin çözümünde kullanılıyor olmakla birlikte, endüstride çoğunlukla sınıflandırma problemlerinin çözümünde kullanılmaktadır."
   ]
  },
  {
   "cell_type": "code",
   "execution_count": 2,
   "metadata": {},
   "outputs": [
    {
     "name": "stdout",
     "output_type": "stream",
     "text": [
      "[[0 1]\n",
      " [7 0]]\n"
     ]
    },
    {
     "name": "stderr",
     "output_type": "stream",
     "text": [
      "/home/onur/anaconda3/lib/python3.8/site-packages/sklearn/utils/validation.py:73: DataConversionWarning: A column-vector y was passed when a 1d array was expected. Please change the shape of y to (n_samples, ), for example using ravel().\n",
      "  return f(**kwargs)\n",
      "<ipython-input-2-101ccbcd82b3>:42: DataConversionWarning: A column-vector y was passed when a 1d array was expected. Please change the shape of y to (n_samples, ), for example using ravel().\n",
      "  knn.fit(X_train,y_train)\n"
     ]
    }
   ],
   "source": [
    "#Kütüphaneler\n",
    "import numpy as np\n",
    "import matplotlib.pyplot as plt\n",
    "import pandas as pd\n",
    "\n",
    "#veri yükleme\n",
    "veriler=pd.read_csv(\"veriler.csv\")\n",
    "\n",
    "x=veriler.iloc[:,1:4].values #bağımsız değişkenler(boy,kilo ve yaş)\n",
    "y=veriler.iloc[:,-1:].values #bağımlı değişkenler(cinsiyet)\n",
    "\n",
    "\n",
    "\n",
    "#boy kilo ve yaştan cinsiyet bulmaya çalışan program\n",
    "\n",
    "from sklearn.model_selection import train_test_split\n",
    "x_train,x_test,y_train,y_test=train_test_split(x,y,test_size=0.33,random_state=0)\n",
    "\n",
    "\n",
    "from sklearn.preprocessing import StandardScaler\n",
    "sc=StandardScaler()\n",
    "X_train=sc.fit_transform(x_train)\n",
    "X_test=sc.transform(x_test)\n",
    "\n",
    "from sklearn.linear_model import LogisticRegression\n",
    "logr= LogisticRegression(random_state=0)\n",
    "logr.fit(X_train,y_train)\n",
    "\n",
    "y_pred=logr.predict(X_test)\n",
    "\n",
    "#print(\"tahminler:\",y_pred)\n",
    "#print(\"sonuclar:\",y_test)\n",
    "\n",
    "from sklearn.metrics import confusion_matrix\n",
    "cm=confusion_matrix(y_test,y_pred)\n",
    "#print(\"confusion matrix:\\n\",cm)\n",
    "\n",
    "from sklearn.neighbors import KNeighborsClassifier\n",
    "\n",
    "knn=KNeighborsClassifier(n_neighbors=5,metric=\"minkowski\")\n",
    "\n",
    "knn.fit(X_train,y_train)\n",
    "\n",
    "y_pred_knn=knn.predict(X_test)\n",
    "\n",
    "cm2=confusion_matrix(y_test, y_pred)\n",
    "\n",
    "print(cm2)"
   ]
  },
  {
   "cell_type": "markdown",
   "metadata": {},
   "source": [
    "# SVM(Support Vector Regression) Algoritmasının Çalışması ve Detayları"
   ]
  },
  {
   "cell_type": "raw",
   "metadata": {},
   "source": [
    "Destek vektör regresyonu uyguladığımızda, çizeceğimiz aralığın maksimum noktayı içerisine almasını sağlamaktır. Bu çizilen maksimum aralıkların kestiği noktalara destek noktaları denir.Verimizde bu çizdiğimiz çizgi doğrusal olabilir ancak farklı metodlar kullanarak eğriler çizmemizde mümkündür."
   ]
  },
  {
   "cell_type": "code",
   "execution_count": 3,
   "metadata": {},
   "outputs": [
    {
     "name": "stdout",
     "output_type": "stream",
     "text": [
      "svm: [[0 1]\n",
      " [6 1]]\n"
     ]
    },
    {
     "name": "stderr",
     "output_type": "stream",
     "text": [
      "/home/onur/anaconda3/lib/python3.8/site-packages/sklearn/utils/validation.py:73: DataConversionWarning: A column-vector y was passed when a 1d array was expected. Please change the shape of y to (n_samples, ), for example using ravel().\n",
      "  return f(**kwargs)\n",
      "<ipython-input-3-17f75a9718f8>:42: DataConversionWarning: A column-vector y was passed when a 1d array was expected. Please change the shape of y to (n_samples, ), for example using ravel().\n",
      "  knn.fit(X_train,y_train)\n",
      "/home/onur/anaconda3/lib/python3.8/site-packages/sklearn/utils/validation.py:73: DataConversionWarning: A column-vector y was passed when a 1d array was expected. Please change the shape of y to (n_samples, ), for example using ravel().\n",
      "  return f(**kwargs)\n"
     ]
    }
   ],
   "source": [
    "#Kütüphaneler\n",
    "import numpy as np\n",
    "import matplotlib.pyplot as plt\n",
    "import pandas as pd\n",
    "\n",
    "#veri yükleme\n",
    "veriler=pd.read_csv(\"veriler.csv\")\n",
    "\n",
    "x=veriler.iloc[:,1:4].values #bağımsız değişkenler(boy,kilo ve yaş)\n",
    "y=veriler.iloc[:,-1:].values #bağımlı değişkenler(cinsiyet)\n",
    "\n",
    "\n",
    "\n",
    "#boy kilo ve yaştan cinsiyet bulmaya çalışan program\n",
    "\n",
    "from sklearn.model_selection import train_test_split\n",
    "x_train,x_test,y_train,y_test=train_test_split(x,y,test_size=0.33,random_state=0)\n",
    "\n",
    "\n",
    "from sklearn.preprocessing import StandardScaler\n",
    "sc=StandardScaler()\n",
    "X_train=sc.fit_transform(x_train)\n",
    "X_test=sc.transform(x_test)\n",
    "\n",
    "from sklearn.linear_model import LogisticRegression\n",
    "logr= LogisticRegression(random_state=0)\n",
    "logr.fit(X_train,y_train)\n",
    "\n",
    "y_pred=logr.predict(X_test)\n",
    "\n",
    "#print(\"tahminler:\",y_pred)\n",
    "#print(\"sonuclar:\",y_test)\n",
    "\n",
    "from sklearn.metrics import confusion_matrix\n",
    "cm=confusion_matrix(y_test,y_pred)\n",
    "#print(\"confusion matrix:\\n\",cm)\n",
    "\n",
    "from sklearn.neighbors import KNeighborsClassifier\n",
    "\n",
    "knn=KNeighborsClassifier(n_neighbors=5,metric=\"minkowski\")\n",
    "\n",
    "knn.fit(X_train,y_train)\n",
    "\n",
    "y_pred_knn=knn.predict(X_test)\n",
    "\n",
    "cm2=confusion_matrix(y_test, y_pred)\n",
    "\n",
    "#print(cm2)\n",
    "\n",
    "from sklearn.svm import SVC\n",
    "svc=SVC(kernel=\"linear\")\n",
    "svc.fit(X_train,y_train)\n",
    "\n",
    "y_pred=svc.predict(X_test)\n",
    "\n",
    "cm3=confusion_matrix(y_test, y_pred)\n",
    "\n",
    "print(\"svm:\",cm3)#1 başarılı 7 başarısız"
   ]
  },
  {
   "cell_type": "code",
   "execution_count": 4,
   "metadata": {},
   "outputs": [
    {
     "name": "stdout",
     "output_type": "stream",
     "text": [
      "svm(rbf ile): [[1 0]\n",
      " [5 2]]\n"
     ]
    },
    {
     "name": "stderr",
     "output_type": "stream",
     "text": [
      "/home/onur/anaconda3/lib/python3.8/site-packages/sklearn/utils/validation.py:73: DataConversionWarning: A column-vector y was passed when a 1d array was expected. Please change the shape of y to (n_samples, ), for example using ravel().\n",
      "  return f(**kwargs)\n",
      "<ipython-input-4-28e50ba17a2d>:42: DataConversionWarning: A column-vector y was passed when a 1d array was expected. Please change the shape of y to (n_samples, ), for example using ravel().\n",
      "  knn.fit(X_train,y_train)\n",
      "/home/onur/anaconda3/lib/python3.8/site-packages/sklearn/utils/validation.py:73: DataConversionWarning: A column-vector y was passed when a 1d array was expected. Please change the shape of y to (n_samples, ), for example using ravel().\n",
      "  return f(**kwargs)\n"
     ]
    }
   ],
   "source": [
    "#Kütüphaneler\n",
    "import numpy as np\n",
    "import matplotlib.pyplot as plt\n",
    "import pandas as pd\n",
    "\n",
    "#veri yükleme\n",
    "veriler=pd.read_csv(\"veriler.csv\")\n",
    "\n",
    "x=veriler.iloc[:,1:4].values #bağımsız değişkenler(boy,kilo ve yaş)\n",
    "y=veriler.iloc[:,-1:].values #bağımlı değişkenler(cinsiyet)\n",
    "\n",
    "\n",
    "\n",
    "#boy kilo ve yaştan cinsiyet bulmaya çalışan program\n",
    "\n",
    "from sklearn.model_selection import train_test_split\n",
    "x_train,x_test,y_train,y_test=train_test_split(x,y,test_size=0.33,random_state=0)\n",
    "\n",
    "\n",
    "from sklearn.preprocessing import StandardScaler\n",
    "sc=StandardScaler()\n",
    "X_train=sc.fit_transform(x_train)\n",
    "X_test=sc.transform(x_test)\n",
    "\n",
    "from sklearn.linear_model import LogisticRegression\n",
    "logr= LogisticRegression(random_state=0)\n",
    "logr.fit(X_train,y_train)\n",
    "\n",
    "y_pred=logr.predict(X_test)\n",
    "\n",
    "#print(\"tahminler:\",y_pred)\n",
    "#print(\"sonuclar:\",y_test)\n",
    "\n",
    "from sklearn.metrics import confusion_matrix\n",
    "cm=confusion_matrix(y_test,y_pred)\n",
    "#print(\"confusion matrix:\\n\",cm)\n",
    "\n",
    "from sklearn.neighbors import KNeighborsClassifier\n",
    "\n",
    "knn=KNeighborsClassifier(n_neighbors=5,metric=\"minkowski\")\n",
    "\n",
    "knn.fit(X_train,y_train)\n",
    "\n",
    "y_pred_knn=knn.predict(X_test)\n",
    "\n",
    "cm2=confusion_matrix(y_test, y_pred)\n",
    "\n",
    "#print(cm2)\n",
    "\n",
    "from sklearn.svm import SVC\n",
    "svc=SVC(kernel=\"rbf\")\n",
    "svc.fit(X_train,y_train)\n",
    "\n",
    "y_pred=svc.predict(X_test)\n",
    "\n",
    "cm3=confusion_matrix(y_test, y_pred)\n",
    "\n",
    "print(\"svm(rbf ile):\",cm3)#3 başarı 5 başarısız\n"
   ]
  },
  {
   "cell_type": "markdown",
   "metadata": {},
   "source": [
    "# Naive Bayes(Koşullu Olasılık)"
   ]
  },
  {
   "cell_type": "raw",
   "metadata": {},
   "source": [
    "örnek: P(A|B) = B olayı gerçekleştiğinde A olayının gerçekleşme olasılığı"
   ]
  },
  {
   "cell_type": "code",
   "execution_count": 5,
   "metadata": {},
   "outputs": [
    {
     "name": "stdout",
     "output_type": "stream",
     "text": [
      "GNB [[0 1]\n",
      " [6 1]]\n"
     ]
    },
    {
     "name": "stderr",
     "output_type": "stream",
     "text": [
      "/home/onur/anaconda3/lib/python3.8/site-packages/sklearn/utils/validation.py:73: DataConversionWarning: A column-vector y was passed when a 1d array was expected. Please change the shape of y to (n_samples, ), for example using ravel().\n",
      "  return f(**kwargs)\n",
      "<ipython-input-5-868622528202>:42: DataConversionWarning: A column-vector y was passed when a 1d array was expected. Please change the shape of y to (n_samples, ), for example using ravel().\n",
      "  knn.fit(X_train,y_train)\n",
      "/home/onur/anaconda3/lib/python3.8/site-packages/sklearn/utils/validation.py:73: DataConversionWarning: A column-vector y was passed when a 1d array was expected. Please change the shape of y to (n_samples, ), for example using ravel().\n",
      "  return f(**kwargs)\n",
      "/home/onur/anaconda3/lib/python3.8/site-packages/sklearn/utils/validation.py:73: DataConversionWarning: A column-vector y was passed when a 1d array was expected. Please change the shape of y to (n_samples, ), for example using ravel().\n",
      "  return f(**kwargs)\n"
     ]
    }
   ],
   "source": [
    "#Kütüphaneler\n",
    "import numpy as np\n",
    "import matplotlib.pyplot as plt\n",
    "import pandas as pd\n",
    "\n",
    "#veri yükleme\n",
    "veriler=pd.read_csv(\"veriler.csv\")\n",
    "\n",
    "x=veriler.iloc[:,1:4].values #bağımsız değişkenler(boy,kilo ve yaş)\n",
    "y=veriler.iloc[:,-1:].values #bağımlı değişkenler(cinsiyet)\n",
    "\n",
    "\n",
    "\n",
    "#boy kilo ve yaştan cinsiyet bulmaya çalışan program\n",
    "\n",
    "from sklearn.model_selection import train_test_split\n",
    "x_train,x_test,y_train,y_test=train_test_split(x,y,test_size=0.33,random_state=0)\n",
    "\n",
    "\n",
    "from sklearn.preprocessing import StandardScaler\n",
    "sc=StandardScaler()\n",
    "X_train=sc.fit_transform(x_train)\n",
    "X_test=sc.transform(x_test)\n",
    "\n",
    "from sklearn.linear_model import LogisticRegression\n",
    "logr= LogisticRegression(random_state=0)\n",
    "logr.fit(X_train,y_train)\n",
    "\n",
    "y_pred=logr.predict(X_test)\n",
    "\n",
    "#print(\"tahminler:\",y_pred)\n",
    "#print(\"sonuclar:\",y_test)\n",
    "\n",
    "from sklearn.metrics import confusion_matrix\n",
    "cm=confusion_matrix(y_test,y_pred)\n",
    "#print(\"confusion matrix:\\n\",cm)\n",
    "\n",
    "from sklearn.neighbors import KNeighborsClassifier\n",
    "\n",
    "knn=KNeighborsClassifier(n_neighbors=5,metric=\"minkowski\")\n",
    "\n",
    "knn.fit(X_train,y_train)\n",
    "\n",
    "y_pred_knn=knn.predict(X_test)\n",
    "\n",
    "cm2=confusion_matrix(y_test, y_pred)\n",
    "\n",
    "#print(cm2)\n",
    "\n",
    "from sklearn.svm import SVC\n",
    "svc=SVC(kernel=\"linear\")\n",
    "svc.fit(X_train,y_train)\n",
    "\n",
    "y_pred=svc.predict(X_test)\n",
    "\n",
    "cm3=confusion_matrix(y_test, y_pred)\n",
    "\n",
    "#print(\"svm:\",cm3)\n",
    "\n",
    "\n",
    "from sklearn.naive_bayes import GaussianNB\n",
    "gnb=GaussianNB()\n",
    "gnb.fit(X_train,y_train)\n",
    "\n",
    "y_pred=gnb.predict(X_test)\n",
    "cm4=confusion_matrix(y_test, y_pred)\n",
    "print(\"GNB\",cm4)"
   ]
  },
  {
   "cell_type": "code",
   "execution_count": null,
   "metadata": {},
   "outputs": [],
   "source": []
  }
 ],
 "metadata": {
  "kernelspec": {
   "display_name": "Python 3",
   "language": "python",
   "name": "python3"
  },
  "language_info": {
   "codemirror_mode": {
    "name": "ipython",
    "version": 3
   },
   "file_extension": ".py",
   "mimetype": "text/x-python",
   "name": "python",
   "nbconvert_exporter": "python",
   "pygments_lexer": "ipython3",
   "version": "3.8.3"
  }
 },
 "nbformat": 4,
 "nbformat_minor": 4
}
