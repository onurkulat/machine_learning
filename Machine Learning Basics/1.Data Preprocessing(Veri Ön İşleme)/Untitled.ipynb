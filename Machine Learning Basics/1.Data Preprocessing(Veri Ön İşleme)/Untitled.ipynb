{
 "cells": [
  {
   "cell_type": "markdown",
   "metadata": {},
   "source": [
    "# Data Preprocessing(Veri Ön İşleme)"
   ]
  },
  {
   "cell_type": "code",
   "execution_count": 1,
   "metadata": {},
   "outputs": [],
   "source": [
    "#kütüphaneler\n",
    "import pandas as pd\n",
    "import numpy as np\n",
    "import matplotlib.pyplot as plt"
   ]
  },
  {
   "cell_type": "code",
   "execution_count": 2,
   "metadata": {},
   "outputs": [],
   "source": [
    "#veri yukleme\n",
    "veriler=pd.read_csv(\"veriler.csv\")"
   ]
  },
  {
   "cell_type": "code",
   "execution_count": 3,
   "metadata": {},
   "outputs": [
    {
     "name": "stdout",
     "output_type": "stream",
     "text": [
      "   ulke  boy  kilo  yas cinsiyet\n",
      "0    tr  130    30   10        e\n",
      "1    tr  125    36   11        e\n",
      "2    tr  135    34   10        k\n",
      "3    tr  133    30    9        k\n",
      "4    tr  129    38   12        e\n",
      "5    tr  180    90   30        e\n",
      "6    tr  190    80   25        e\n",
      "7    tr  175    90   35        e\n",
      "8    tr  177    60   22        k\n",
      "9    us  185   105   33        e\n",
      "10   us  165    55   27        k\n",
      "11   us  155    50   44        k\n",
      "12   us  160    58   39        k\n",
      "13   us  162    59   41        k\n",
      "14   us  167    62   55        k\n",
      "15   fr  174    70   47        e\n",
      "16   fr  193    90   23        e\n",
      "17   fr  187    80   27        e\n",
      "18   fr  183    88   28        e\n",
      "19   fr  159    40   29        k\n",
      "20   fr  164    66   32        k\n",
      "21   fr  166    56   42        k\n"
     ]
    }
   ],
   "source": [
    "print(veriler)"
   ]
  },
  {
   "cell_type": "code",
   "execution_count": 4,
   "metadata": {},
   "outputs": [
    {
     "name": "stdout",
     "output_type": "stream",
     "text": [
      "    boy\n",
      "0   130\n",
      "1   125\n",
      "2   135\n",
      "3   133\n",
      "4   129\n",
      "5   180\n",
      "6   190\n",
      "7   175\n",
      "8   177\n",
      "9   185\n",
      "10  165\n",
      "11  155\n",
      "12  160\n",
      "13  162\n",
      "14  167\n",
      "15  174\n",
      "16  193\n",
      "17  187\n",
      "18  183\n",
      "19  159\n",
      "20  164\n",
      "21  166\n"
     ]
    }
   ],
   "source": [
    "#veri on isleme\n",
    "boy=veriler[[\"boy\"]]\n",
    "print(boy)"
   ]
  },
  {
   "cell_type": "code",
   "execution_count": 5,
   "metadata": {},
   "outputs": [
    {
     "name": "stdout",
     "output_type": "stream",
     "text": [
      "    boy  kilo\n",
      "0   130    30\n",
      "1   125    36\n",
      "2   135    34\n",
      "3   133    30\n",
      "4   129    38\n",
      "5   180    90\n",
      "6   190    80\n",
      "7   175    90\n",
      "8   177    60\n",
      "9   185   105\n",
      "10  165    55\n",
      "11  155    50\n",
      "12  160    58\n",
      "13  162    59\n",
      "14  167    62\n",
      "15  174    70\n",
      "16  193    90\n",
      "17  187    80\n",
      "18  183    88\n",
      "19  159    40\n",
      "20  164    66\n",
      "21  166    56\n"
     ]
    }
   ],
   "source": [
    "boykilo=veriler[[\"boy\",\"kilo\"]]\n",
    "print(boykilo)"
   ]
  },
  {
   "cell_type": "markdown",
   "metadata": {},
   "source": [
    "## Missing Values"
   ]
  },
  {
   "cell_type": "code",
   "execution_count": 6,
   "metadata": {},
   "outputs": [
    {
     "name": "stdout",
     "output_type": "stream",
     "text": [
      "   ulke  boy  kilo   yas cinsiyet\n",
      "0    tr  130    30  10.0        e\n",
      "1    tr  125    36  11.0        e\n",
      "2    tr  135    34  10.0        k\n",
      "3    tr  133    30   9.0        k\n",
      "4    tr  129    38  12.0        e\n",
      "5    tr  180    90  30.0        e\n",
      "6    tr  190    80  25.0        e\n",
      "7    tr  175    90  35.0        e\n",
      "8    tr  177    60  22.0        k\n",
      "9    us  185   105  33.0        e\n",
      "10   us  165    55  27.0        k\n",
      "11   us  155    50  44.0        k\n",
      "12   us  160    58   NaN        k\n",
      "13   us  162    59  41.0        k\n",
      "14   us  167    62  55.0        k\n",
      "15   fr  174    70  47.0        e\n",
      "16   fr  193    90   NaN        e\n",
      "17   fr  187    80  27.0        e\n",
      "18   fr  183    88  28.0        e\n",
      "19   fr  159    40  29.0        k\n",
      "20   fr  164    66  32.0        k\n",
      "21   fr  166    56  42.0        k\n"
     ]
    }
   ],
   "source": [
    "eksikveriler=pd.read_csv(\"eksikveriler.csv\")\n",
    "print(eksikveriler)"
   ]
  },
  {
   "cell_type": "raw",
   "metadata": {},
   "source": [
    "NaN değerler için çözüm yolu olarak ortalama değer alınıp işlenebilir"
   ]
  },
  {
   "cell_type": "code",
   "execution_count": 7,
   "metadata": {},
   "outputs": [
    {
     "name": "stdout",
     "output_type": "stream",
     "text": [
      "[[130  30  10]\n",
      " [125  36  11]\n",
      " [135  34  10]\n",
      " [133  30   9]\n",
      " [129  38  12]\n",
      " [180  90  30]\n",
      " [190  80  25]\n",
      " [175  90  35]\n",
      " [177  60  22]\n",
      " [185 105  33]\n",
      " [165  55  27]\n",
      " [155  50  44]\n",
      " [160  58  39]\n",
      " [162  59  41]\n",
      " [167  62  55]\n",
      " [174  70  47]\n",
      " [193  90  23]\n",
      " [187  80  27]\n",
      " [183  88  28]\n",
      " [159  40  29]\n",
      " [164  66  32]\n",
      " [166  56  42]]\n"
     ]
    }
   ],
   "source": [
    "from sklearn.impute import SimpleImputer\n",
    " \n",
    "imputer = SimpleImputer(missing_values=np.nan, strategy = 'mean',)\n",
    "#iloc pandas kütüphanesinde hangi kolonları almamızı belirlediğimiz fonk.\n",
    "Yas = veriler.iloc[:,1:4].values\n",
    "print(Yas)"
   ]
  },
  {
   "cell_type": "code",
   "execution_count": 8,
   "metadata": {},
   "outputs": [
    {
     "name": "stdout",
     "output_type": "stream",
     "text": [
      "[[130  30  10]\n",
      " [125  36  11]\n",
      " [135  34  10]\n",
      " [133  30   9]\n",
      " [129  38  12]\n",
      " [180  90  30]\n",
      " [190  80  25]\n",
      " [175  90  35]\n",
      " [177  60  22]\n",
      " [185 105  33]\n",
      " [165  55  27]\n",
      " [155  50  44]\n",
      " [160  58  39]\n",
      " [162  59  41]\n",
      " [167  62  55]\n",
      " [174  70  47]\n",
      " [193  90  23]\n",
      " [187  80  27]\n",
      " [183  88  28]\n",
      " [159  40  29]\n",
      " [164  66  32]\n",
      " [166  56  42]]\n"
     ]
    }
   ],
   "source": [
    "imputer =imputer.fit(Yas[:,1:4])#: satır komple sütunda 1 ile 4\n",
    "Yas[:,1:4]=imputer.transform(Yas[:,1:4])\n",
    "print(Yas)"
   ]
  },
  {
   "cell_type": "markdown",
   "metadata": {},
   "source": [
    "## Kategorik Veriler"
   ]
  },
  {
   "cell_type": "raw",
   "metadata": {},
   "source": [
    "Kategorik veriler aralarında matematiksel işlemlerin yapılamadığı sadece büyüklük küçüklük(ordinal) ya da eşitlik, eşitsizlik(nominal) veri türüdür."
   ]
  },
  {
   "cell_type": "markdown",
   "metadata": {},
   "source": [
    "### Ordinal Veriler "
   ]
  },
  {
   "cell_type": "raw",
   "metadata": {},
   "source": [
    "Sıraya sokulabilen, aralarında büyüktür küçüktür ilişkisine girebilen ama ölçülemeyen verilerdir.(Örneğim: Eğitim Düzeyi, Sosyoekonomik ölçek skorları gibi.)"
   ]
  },
  {
   "cell_type": "markdown",
   "metadata": {},
   "source": [
    "### Nominal Veriler "
   ]
  },
  {
   "cell_type": "raw",
   "metadata": {},
   "source": [
    "Ne sıralanabilen ne de ölçülebilen verilerdir. (Forma numaraları,plaka numaraları,araba markası) genelde kolon başlığına taşınarak sorun çözülür."
   ]
  },
  {
   "cell_type": "markdown",
   "metadata": {},
   "source": [
    "## Sayısal Veriler "
   ]
  },
  {
   "cell_type": "markdown",
   "metadata": {},
   "source": [
    "### Oransal(Ratio) Veriler "
   ]
  },
  {
   "cell_type": "raw",
   "metadata": {},
   "source": [
    "Oran verilebilir veri türlerine Ratio veriler denir."
   ]
  },
  {
   "cell_type": "markdown",
   "metadata": {},
   "source": [
    "### Aralık(Interval) Veriler"
   ]
  },
  {
   "cell_type": "raw",
   "metadata": {},
   "source": [
    "Herhangi bir çarpma işlemini kabul etmeyen toplama işlemini kabul eden verilerdir.(Örneğin sıcaklık degerleri aralıgı belli artma ve azalma durumu mümkün)"
   ]
  },
  {
   "cell_type": "code",
   "execution_count": 9,
   "metadata": {},
   "outputs": [
    {
     "name": "stdout",
     "output_type": "stream",
     "text": [
      "   ulke  boy  kilo   yas cinsiyet\n",
      "0    tr  130    30  10.0        e\n",
      "1    tr  125    36  11.0        e\n",
      "2    tr  135    34  10.0        k\n",
      "3    tr  133    30   9.0        k\n",
      "4    tr  129    38  12.0        e\n",
      "5    tr  180    90  30.0        e\n",
      "6    tr  190    80  25.0        e\n",
      "7    tr  175    90  35.0        e\n",
      "8    tr  177    60  22.0        k\n",
      "9    us  185   105  33.0        e\n",
      "10   us  165    55  27.0        k\n",
      "11   us  155    50  44.0        k\n",
      "12   us  160    58   NaN        k\n",
      "13   us  162    59  41.0        k\n",
      "14   us  167    62  55.0        k\n",
      "15   fr  174    70  47.0        e\n",
      "16   fr  193    90   NaN        e\n",
      "17   fr  187    80  27.0        e\n",
      "18   fr  183    88  28.0        e\n",
      "19   fr  159    40  29.0        k\n",
      "20   fr  164    66  32.0        k\n",
      "21   fr  166    56  42.0        k\n",
      "[[130.    30.    10.  ]\n",
      " [125.    36.    11.  ]\n",
      " [135.    34.    10.  ]\n",
      " [133.    30.     9.  ]\n",
      " [129.    38.    12.  ]\n",
      " [180.    90.    30.  ]\n",
      " [190.    80.    25.  ]\n",
      " [175.    90.    35.  ]\n",
      " [177.    60.    22.  ]\n",
      " [185.   105.    33.  ]\n",
      " [165.    55.    27.  ]\n",
      " [155.    50.    44.  ]\n",
      " [160.    58.    28.45]\n",
      " [162.    59.    41.  ]\n",
      " [167.    62.    55.  ]\n",
      " [174.    70.    47.  ]\n",
      " [193.    90.    28.45]\n",
      " [187.    80.    27.  ]\n",
      " [183.    88.    28.  ]\n",
      " [159.    40.    29.  ]\n",
      " [164.    66.    32.  ]\n",
      " [166.    56.    42.  ]]\n",
      "[['tr']\n",
      " ['tr']\n",
      " ['tr']\n",
      " ['tr']\n",
      " ['tr']\n",
      " ['tr']\n",
      " ['tr']\n",
      " ['tr']\n",
      " ['tr']\n",
      " ['us']\n",
      " ['us']\n",
      " ['us']\n",
      " ['us']\n",
      " ['us']\n",
      " ['us']\n",
      " ['fr']\n",
      " ['fr']\n",
      " ['fr']\n",
      " ['fr']\n",
      " ['fr']\n",
      " ['fr']\n",
      " ['fr']]\n",
      "[[1]\n",
      " [1]\n",
      " [1]\n",
      " [1]\n",
      " [1]\n",
      " [1]\n",
      " [1]\n",
      " [1]\n",
      " [1]\n",
      " [2]\n",
      " [2]\n",
      " [2]\n",
      " [2]\n",
      " [2]\n",
      " [2]\n",
      " [0]\n",
      " [0]\n",
      " [0]\n",
      " [0]\n",
      " [0]\n",
      " [0]\n",
      " [0]]\n",
      "[[0. 1. 0.]\n",
      " [0. 1. 0.]\n",
      " [0. 1. 0.]\n",
      " [0. 1. 0.]\n",
      " [0. 1. 0.]\n",
      " [0. 1. 0.]\n",
      " [0. 1. 0.]\n",
      " [0. 1. 0.]\n",
      " [0. 1. 0.]\n",
      " [0. 0. 1.]\n",
      " [0. 0. 1.]\n",
      " [0. 0. 1.]\n",
      " [0. 0. 1.]\n",
      " [0. 0. 1.]\n",
      " [0. 0. 1.]\n",
      " [1. 0. 0.]\n",
      " [1. 0. 0.]\n",
      " [1. 0. 0.]\n",
      " [1. 0. 0.]\n",
      " [1. 0. 0.]\n",
      " [1. 0. 0.]\n",
      " [1. 0. 0.]]\n"
     ]
    }
   ],
   "source": [
    "#kutuphaneler\n",
    "import numpy as np\n",
    "import matplotlib.pyplot as plt\n",
    "import pandas as pd\n",
    "\n",
    "#kodlar\n",
    "#veri yukleme\n",
    "\n",
    "veriler = pd.read_csv('eksikveriler.csv')\n",
    "#pd.read_csv(\"veriler.csv\")\n",
    "print(veriler)\n",
    "\n",
    "\n",
    "#eksik veriler\n",
    "#sci - kit learn\n",
    "from sklearn.impute import SimpleImputer\n",
    " \n",
    "imputer = SimpleImputer(missing_values=np.nan, strategy = 'mean')\n",
    "#iloc pandas kütüphanesinde hangi kolonları almamızı belirlediğimiz fonk.\n",
    "Yas = veriler.iloc[:,1:4].values\n",
    "\n",
    "imputer =imputer.fit(Yas[:,1:4])#: satır komple sütunda 1 ile 4\n",
    "Yas[:,1:4]=imputer.transform(Yas[:,1:4])\n",
    "print(Yas)\n",
    "\n",
    "\n",
    "\n",
    "ulke = veriler.iloc[:,0:1].values\n",
    "print(ulke)\n",
    "from sklearn.preprocessing import LabelEncoder#her bir değer için sayısal değer \n",
    "le = LabelEncoder()\n",
    "ulke[:,0] = le.fit_transform(ulke[:,0])#hem uygula hem de işle\n",
    "print(ulke)\n",
    "\n",
    "from sklearn.preprocessing import OneHotEncoder\n",
    "ohe = OneHotEncoder(categories=\"auto\")\n",
    "ulke=ohe.fit_transform(ulke).toarray()\n",
    "print(ulke)"
   ]
  },
  {
   "cell_type": "markdown",
   "metadata": {},
   "source": [
    "## Verilerin Birleştirilmesi ve DataFrame Oluşturulması "
   ]
  },
  {
   "cell_type": "code",
   "execution_count": 10,
   "metadata": {},
   "outputs": [
    {
     "name": "stdout",
     "output_type": "stream",
     "text": [
      "     fr   tr   us\n",
      "0   0.0  1.0  0.0\n",
      "1   0.0  1.0  0.0\n",
      "2   0.0  1.0  0.0\n",
      "3   0.0  1.0  0.0\n",
      "4   0.0  1.0  0.0\n",
      "5   0.0  1.0  0.0\n",
      "6   0.0  1.0  0.0\n",
      "7   0.0  1.0  0.0\n",
      "8   0.0  1.0  0.0\n",
      "9   0.0  0.0  1.0\n",
      "10  0.0  0.0  1.0\n",
      "11  0.0  0.0  1.0\n",
      "12  0.0  0.0  1.0\n",
      "13  0.0  0.0  1.0\n",
      "14  0.0  0.0  1.0\n",
      "15  1.0  0.0  0.0\n",
      "16  1.0  0.0  0.0\n",
      "17  1.0  0.0  0.0\n",
      "18  1.0  0.0  0.0\n",
      "19  1.0  0.0  0.0\n",
      "20  1.0  0.0  0.0\n",
      "21  1.0  0.0  0.0\n"
     ]
    }
   ],
   "source": [
    "sonuc=pd.DataFrame(data=ulke,index=range(22),columns=[\"fr\",\"tr\",\"us\"])\n",
    "print(sonuc)"
   ]
  },
  {
   "cell_type": "code",
   "execution_count": 11,
   "metadata": {},
   "outputs": [
    {
     "name": "stdout",
     "output_type": "stream",
     "text": [
      "[[130.    30.    10.  ]\n",
      " [125.    36.    11.  ]\n",
      " [135.    34.    10.  ]\n",
      " [133.    30.     9.  ]\n",
      " [129.    38.    12.  ]\n",
      " [180.    90.    30.  ]\n",
      " [190.    80.    25.  ]\n",
      " [175.    90.    35.  ]\n",
      " [177.    60.    22.  ]\n",
      " [185.   105.    33.  ]\n",
      " [165.    55.    27.  ]\n",
      " [155.    50.    44.  ]\n",
      " [160.    58.    28.45]\n",
      " [162.    59.    41.  ]\n",
      " [167.    62.    55.  ]\n",
      " [174.    70.    47.  ]\n",
      " [193.    90.    28.45]\n",
      " [187.    80.    27.  ]\n",
      " [183.    88.    28.  ]\n",
      " [159.    40.    29.  ]\n",
      " [164.    66.    32.  ]\n",
      " [166.    56.    42.  ]]\n"
     ]
    }
   ],
   "source": [
    "print(Yas)"
   ]
  },
  {
   "cell_type": "code",
   "execution_count": 12,
   "metadata": {},
   "outputs": [
    {
     "name": "stdout",
     "output_type": "stream",
     "text": [
      "      boy   kilo    yaş\n",
      "0   130.0   30.0  10.00\n",
      "1   125.0   36.0  11.00\n",
      "2   135.0   34.0  10.00\n",
      "3   133.0   30.0   9.00\n",
      "4   129.0   38.0  12.00\n",
      "5   180.0   90.0  30.00\n",
      "6   190.0   80.0  25.00\n",
      "7   175.0   90.0  35.00\n",
      "8   177.0   60.0  22.00\n",
      "9   185.0  105.0  33.00\n",
      "10  165.0   55.0  27.00\n",
      "11  155.0   50.0  44.00\n",
      "12  160.0   58.0  28.45\n",
      "13  162.0   59.0  41.00\n",
      "14  167.0   62.0  55.00\n",
      "15  174.0   70.0  47.00\n",
      "16  193.0   90.0  28.45\n",
      "17  187.0   80.0  27.00\n",
      "18  183.0   88.0  28.00\n",
      "19  159.0   40.0  29.00\n",
      "20  164.0   66.0  32.00\n",
      "21  166.0   56.0  42.00\n"
     ]
    }
   ],
   "source": [
    "sonuc2=pd.DataFrame(data=Yas,index=range(22),columns=[\"boy\",\"kilo\",\"yaş\"])\n",
    "print(sonuc2)"
   ]
  },
  {
   "cell_type": "code",
   "execution_count": 13,
   "metadata": {},
   "outputs": [
    {
     "name": "stdout",
     "output_type": "stream",
     "text": [
      "[['e']\n",
      " ['e']\n",
      " ['k']\n",
      " ['k']\n",
      " ['e']\n",
      " ['e']\n",
      " ['e']\n",
      " ['e']\n",
      " ['k']\n",
      " ['e']\n",
      " ['k']\n",
      " ['k']\n",
      " ['k']\n",
      " ['k']\n",
      " ['k']\n",
      " ['e']\n",
      " ['e']\n",
      " ['e']\n",
      " ['e']\n",
      " ['k']\n",
      " ['k']\n",
      " ['k']]\n"
     ]
    }
   ],
   "source": [
    "cinsiyet=veriler.iloc[:,-1:].values\n",
    "print(cinsiyet)"
   ]
  },
  {
   "cell_type": "code",
   "execution_count": 14,
   "metadata": {},
   "outputs": [
    {
     "name": "stdout",
     "output_type": "stream",
     "text": [
      "   cinsiyet\n",
      "0         e\n",
      "1         e\n",
      "2         k\n",
      "3         k\n",
      "4         e\n",
      "5         e\n",
      "6         e\n",
      "7         e\n",
      "8         k\n",
      "9         e\n",
      "10        k\n",
      "11        k\n",
      "12        k\n",
      "13        k\n",
      "14        k\n",
      "15        e\n",
      "16        e\n",
      "17        e\n",
      "18        e\n",
      "19        k\n",
      "20        k\n",
      "21        k\n"
     ]
    }
   ],
   "source": [
    "sonuc3=pd.DataFrame(data=cinsiyet, index=range(22),columns=[\"cinsiyet\"])\n",
    "print(sonuc3)"
   ]
  },
  {
   "cell_type": "code",
   "execution_count": 15,
   "metadata": {},
   "outputs": [
    {
     "name": "stdout",
     "output_type": "stream",
     "text": [
      "     fr   tr   us    boy   kilo    yaş\n",
      "0   0.0  1.0  0.0  130.0   30.0  10.00\n",
      "1   0.0  1.0  0.0  125.0   36.0  11.00\n",
      "2   0.0  1.0  0.0  135.0   34.0  10.00\n",
      "3   0.0  1.0  0.0  133.0   30.0   9.00\n",
      "4   0.0  1.0  0.0  129.0   38.0  12.00\n",
      "5   0.0  1.0  0.0  180.0   90.0  30.00\n",
      "6   0.0  1.0  0.0  190.0   80.0  25.00\n",
      "7   0.0  1.0  0.0  175.0   90.0  35.00\n",
      "8   0.0  1.0  0.0  177.0   60.0  22.00\n",
      "9   0.0  0.0  1.0  185.0  105.0  33.00\n",
      "10  0.0  0.0  1.0  165.0   55.0  27.00\n",
      "11  0.0  0.0  1.0  155.0   50.0  44.00\n",
      "12  0.0  0.0  1.0  160.0   58.0  28.45\n",
      "13  0.0  0.0  1.0  162.0   59.0  41.00\n",
      "14  0.0  0.0  1.0  167.0   62.0  55.00\n",
      "15  1.0  0.0  0.0  174.0   70.0  47.00\n",
      "16  1.0  0.0  0.0  193.0   90.0  28.45\n",
      "17  1.0  0.0  0.0  187.0   80.0  27.00\n",
      "18  1.0  0.0  0.0  183.0   88.0  28.00\n",
      "19  1.0  0.0  0.0  159.0   40.0  29.00\n",
      "20  1.0  0.0  0.0  164.0   66.0  32.00\n",
      "21  1.0  0.0  0.0  166.0   56.0  42.00\n"
     ]
    }
   ],
   "source": [
    "#frame leri birleştirme\n",
    "s=pd.concat([sonuc,sonuc2],axis=1)\n",
    "print(s)"
   ]
  },
  {
   "cell_type": "code",
   "execution_count": 16,
   "metadata": {},
   "outputs": [
    {
     "name": "stdout",
     "output_type": "stream",
     "text": [
      "     fr   tr   us    boy   kilo    yaş cinsiyet\n",
      "0   0.0  1.0  0.0  130.0   30.0  10.00        e\n",
      "1   0.0  1.0  0.0  125.0   36.0  11.00        e\n",
      "2   0.0  1.0  0.0  135.0   34.0  10.00        k\n",
      "3   0.0  1.0  0.0  133.0   30.0   9.00        k\n",
      "4   0.0  1.0  0.0  129.0   38.0  12.00        e\n",
      "5   0.0  1.0  0.0  180.0   90.0  30.00        e\n",
      "6   0.0  1.0  0.0  190.0   80.0  25.00        e\n",
      "7   0.0  1.0  0.0  175.0   90.0  35.00        e\n",
      "8   0.0  1.0  0.0  177.0   60.0  22.00        k\n",
      "9   0.0  0.0  1.0  185.0  105.0  33.00        e\n",
      "10  0.0  0.0  1.0  165.0   55.0  27.00        k\n",
      "11  0.0  0.0  1.0  155.0   50.0  44.00        k\n",
      "12  0.0  0.0  1.0  160.0   58.0  28.45        k\n",
      "13  0.0  0.0  1.0  162.0   59.0  41.00        k\n",
      "14  0.0  0.0  1.0  167.0   62.0  55.00        k\n",
      "15  1.0  0.0  0.0  174.0   70.0  47.00        e\n",
      "16  1.0  0.0  0.0  193.0   90.0  28.45        e\n",
      "17  1.0  0.0  0.0  187.0   80.0  27.00        e\n",
      "18  1.0  0.0  0.0  183.0   88.0  28.00        e\n",
      "19  1.0  0.0  0.0  159.0   40.0  29.00        k\n",
      "20  1.0  0.0  0.0  164.0   66.0  32.00        k\n",
      "21  1.0  0.0  0.0  166.0   56.0  42.00        k\n"
     ]
    }
   ],
   "source": [
    "s2=pd.concat([sonuc,sonuc2,sonuc3],axis=1)\n",
    "print(s2)"
   ]
  },
  {
   "cell_type": "markdown",
   "metadata": {},
   "source": [
    "# Veri Kümesinin Eğitim ve Test Olarak Bölünmesi"
   ]
  },
  {
   "cell_type": "raw",
   "metadata": {},
   "source": [
    "Verinin 3 de 2 lik kısmı ile train(eğitim) yap öğren(x train ile y train), 3 de 1 lik kısmı ile test et (x test ile y test)"
   ]
  },
  {
   "cell_type": "code",
   "execution_count": 17,
   "metadata": {},
   "outputs": [],
   "source": [
    "from sklearn.model_selection import train_test_split #train test split olarak bölüyoruz\n",
    "x_train,x_test,y_train,y_test=train_test_split(s,sonuc3,test_size=0.33,random_state=0) #train -s test- sonuc3"
   ]
  },
  {
   "cell_type": "code",
   "execution_count": 18,
   "metadata": {},
   "outputs": [
    {
     "name": "stdout",
     "output_type": "stream",
     "text": [
      "     fr   tr   us    boy   kilo    yaş\n",
      "8   0.0  1.0  0.0  177.0   60.0  22.00\n",
      "6   0.0  1.0  0.0  190.0   80.0  25.00\n",
      "16  1.0  0.0  0.0  193.0   90.0  28.45\n",
      "4   0.0  1.0  0.0  129.0   38.0  12.00\n",
      "2   0.0  1.0  0.0  135.0   34.0  10.00\n",
      "5   0.0  1.0  0.0  180.0   90.0  30.00\n",
      "17  1.0  0.0  0.0  187.0   80.0  27.00\n",
      "9   0.0  0.0  1.0  185.0  105.0  33.00\n",
      "7   0.0  1.0  0.0  175.0   90.0  35.00\n",
      "18  1.0  0.0  0.0  183.0   88.0  28.00\n",
      "3   0.0  1.0  0.0  133.0   30.0   9.00\n",
      "0   0.0  1.0  0.0  130.0   30.0  10.00\n",
      "15  1.0  0.0  0.0  174.0   70.0  47.00\n",
      "12  0.0  0.0  1.0  160.0   58.0  28.45\n"
     ]
    }
   ],
   "source": [
    "print(x_train)"
   ]
  },
  {
   "cell_type": "code",
   "execution_count": 19,
   "metadata": {},
   "outputs": [
    {
     "name": "stdout",
     "output_type": "stream",
     "text": [
      "   cinsiyet\n",
      "8         k\n",
      "6         e\n",
      "16        e\n",
      "4         e\n",
      "2         k\n",
      "5         e\n",
      "17        e\n",
      "9         e\n",
      "7         e\n",
      "18        e\n",
      "3         k\n",
      "0         e\n",
      "15        e\n",
      "12        k\n"
     ]
    }
   ],
   "source": [
    "print(y_train)"
   ]
  },
  {
   "cell_type": "code",
   "execution_count": 20,
   "metadata": {},
   "outputs": [
    {
     "name": "stdout",
     "output_type": "stream",
     "text": [
      "     fr   tr   us    boy  kilo   yaş\n",
      "20  1.0  0.0  0.0  164.0  66.0  32.0\n",
      "10  0.0  0.0  1.0  165.0  55.0  27.0\n",
      "14  0.0  0.0  1.0  167.0  62.0  55.0\n",
      "13  0.0  0.0  1.0  162.0  59.0  41.0\n",
      "1   0.0  1.0  0.0  125.0  36.0  11.0\n",
      "21  1.0  0.0  0.0  166.0  56.0  42.0\n",
      "11  0.0  0.0  1.0  155.0  50.0  44.0\n",
      "19  1.0  0.0  0.0  159.0  40.0  29.0\n"
     ]
    }
   ],
   "source": [
    "print(x_test)"
   ]
  },
  {
   "cell_type": "code",
   "execution_count": 21,
   "metadata": {},
   "outputs": [
    {
     "name": "stdout",
     "output_type": "stream",
     "text": [
      "   cinsiyet\n",
      "20        k\n",
      "10        k\n",
      "14        k\n",
      "13        k\n",
      "1         e\n",
      "21        k\n",
      "11        k\n",
      "19        k\n"
     ]
    }
   ],
   "source": [
    "print(y_test)"
   ]
  },
  {
   "cell_type": "markdown",
   "metadata": {},
   "source": [
    "## Öznitelik Ölçekleme(Feature Scaling) "
   ]
  },
  {
   "cell_type": "code",
   "execution_count": 22,
   "metadata": {},
   "outputs": [],
   "source": [
    "from sklearn.preprocessing import StandardScaler\n",
    "sc=StandardScaler()\n",
    "X_train=sc.fit_transform(x_train)\n",
    "X_test=sc.fit_transform(x_test)"
   ]
  },
  {
   "cell_type": "code",
   "execution_count": 23,
   "metadata": {},
   "outputs": [
    {
     "data": {
      "text/html": [
       "<div>\n",
       "<style scoped>\n",
       "    .dataframe tbody tr th:only-of-type {\n",
       "        vertical-align: middle;\n",
       "    }\n",
       "\n",
       "    .dataframe tbody tr th {\n",
       "        vertical-align: top;\n",
       "    }\n",
       "\n",
       "    .dataframe thead th {\n",
       "        text-align: right;\n",
       "    }\n",
       "</style>\n",
       "<table border=\"1\" class=\"dataframe\">\n",
       "  <thead>\n",
       "    <tr style=\"text-align: right;\">\n",
       "      <th></th>\n",
       "      <th>0</th>\n",
       "      <th>1</th>\n",
       "      <th>2</th>\n",
       "      <th>3</th>\n",
       "      <th>4</th>\n",
       "      <th>5</th>\n",
       "    </tr>\n",
       "  </thead>\n",
       "  <tbody>\n",
       "    <tr>\n",
       "      <th>0</th>\n",
       "      <td>-0.632456</td>\n",
       "      <td>0.866025</td>\n",
       "      <td>-0.408248</td>\n",
       "      <td>0.450494</td>\n",
       "      <td>-0.296579</td>\n",
       "      <td>-0.247171</td>\n",
       "    </tr>\n",
       "    <tr>\n",
       "      <th>1</th>\n",
       "      <td>-0.632456</td>\n",
       "      <td>0.866025</td>\n",
       "      <td>-0.408248</td>\n",
       "      <td>1.008249</td>\n",
       "      <td>0.509655</td>\n",
       "      <td>0.034162</td>\n",
       "    </tr>\n",
       "    <tr>\n",
       "      <th>2</th>\n",
       "      <td>1.581139</td>\n",
       "      <td>-1.154701</td>\n",
       "      <td>-0.408248</td>\n",
       "      <td>1.136962</td>\n",
       "      <td>0.912772</td>\n",
       "      <td>0.357695</td>\n",
       "    </tr>\n",
       "    <tr>\n",
       "      <th>3</th>\n",
       "      <td>-0.632456</td>\n",
       "      <td>0.866025</td>\n",
       "      <td>-0.408248</td>\n",
       "      <td>-1.608909</td>\n",
       "      <td>-1.183436</td>\n",
       "      <td>-1.184949</td>\n",
       "    </tr>\n",
       "    <tr>\n",
       "      <th>4</th>\n",
       "      <td>-0.632456</td>\n",
       "      <td>0.866025</td>\n",
       "      <td>-0.408248</td>\n",
       "      <td>-1.351483</td>\n",
       "      <td>-1.344683</td>\n",
       "      <td>-1.372504</td>\n",
       "    </tr>\n",
       "    <tr>\n",
       "      <th>5</th>\n",
       "      <td>-0.632456</td>\n",
       "      <td>0.866025</td>\n",
       "      <td>-0.408248</td>\n",
       "      <td>0.579207</td>\n",
       "      <td>0.912772</td>\n",
       "      <td>0.503051</td>\n",
       "    </tr>\n",
       "    <tr>\n",
       "      <th>6</th>\n",
       "      <td>1.581139</td>\n",
       "      <td>-1.154701</td>\n",
       "      <td>-0.408248</td>\n",
       "      <td>0.879537</td>\n",
       "      <td>0.509655</td>\n",
       "      <td>0.221717</td>\n",
       "    </tr>\n",
       "    <tr>\n",
       "      <th>7</th>\n",
       "      <td>-0.632456</td>\n",
       "      <td>-1.154701</td>\n",
       "      <td>2.449490</td>\n",
       "      <td>0.793728</td>\n",
       "      <td>1.517447</td>\n",
       "      <td>0.784384</td>\n",
       "    </tr>\n",
       "    <tr>\n",
       "      <th>8</th>\n",
       "      <td>-0.632456</td>\n",
       "      <td>0.866025</td>\n",
       "      <td>-0.408248</td>\n",
       "      <td>0.364686</td>\n",
       "      <td>0.912772</td>\n",
       "      <td>0.971939</td>\n",
       "    </tr>\n",
       "    <tr>\n",
       "      <th>9</th>\n",
       "      <td>1.581139</td>\n",
       "      <td>-1.154701</td>\n",
       "      <td>-0.408248</td>\n",
       "      <td>0.707920</td>\n",
       "      <td>0.832148</td>\n",
       "      <td>0.315495</td>\n",
       "    </tr>\n",
       "    <tr>\n",
       "      <th>10</th>\n",
       "      <td>-0.632456</td>\n",
       "      <td>0.866025</td>\n",
       "      <td>-0.408248</td>\n",
       "      <td>-1.437292</td>\n",
       "      <td>-1.505929</td>\n",
       "      <td>-1.466282</td>\n",
       "    </tr>\n",
       "    <tr>\n",
       "      <th>11</th>\n",
       "      <td>-0.632456</td>\n",
       "      <td>0.866025</td>\n",
       "      <td>-0.408248</td>\n",
       "      <td>-1.566004</td>\n",
       "      <td>-1.505929</td>\n",
       "      <td>-1.372504</td>\n",
       "    </tr>\n",
       "    <tr>\n",
       "      <th>12</th>\n",
       "      <td>1.581139</td>\n",
       "      <td>-1.154701</td>\n",
       "      <td>-0.408248</td>\n",
       "      <td>0.321782</td>\n",
       "      <td>0.106538</td>\n",
       "      <td>2.097272</td>\n",
       "    </tr>\n",
       "    <tr>\n",
       "      <th>13</th>\n",
       "      <td>-0.632456</td>\n",
       "      <td>-1.154701</td>\n",
       "      <td>2.449490</td>\n",
       "      <td>-0.278878</td>\n",
       "      <td>-0.377202</td>\n",
       "      <td>0.357695</td>\n",
       "    </tr>\n",
       "  </tbody>\n",
       "</table>\n",
       "</div>"
      ],
      "text/plain": [
       "           0         1         2         3         4         5\n",
       "0  -0.632456  0.866025 -0.408248  0.450494 -0.296579 -0.247171\n",
       "1  -0.632456  0.866025 -0.408248  1.008249  0.509655  0.034162\n",
       "2   1.581139 -1.154701 -0.408248  1.136962  0.912772  0.357695\n",
       "3  -0.632456  0.866025 -0.408248 -1.608909 -1.183436 -1.184949\n",
       "4  -0.632456  0.866025 -0.408248 -1.351483 -1.344683 -1.372504\n",
       "5  -0.632456  0.866025 -0.408248  0.579207  0.912772  0.503051\n",
       "6   1.581139 -1.154701 -0.408248  0.879537  0.509655  0.221717\n",
       "7  -0.632456 -1.154701  2.449490  0.793728  1.517447  0.784384\n",
       "8  -0.632456  0.866025 -0.408248  0.364686  0.912772  0.971939\n",
       "9   1.581139 -1.154701 -0.408248  0.707920  0.832148  0.315495\n",
       "10 -0.632456  0.866025 -0.408248 -1.437292 -1.505929 -1.466282\n",
       "11 -0.632456  0.866025 -0.408248 -1.566004 -1.505929 -1.372504\n",
       "12  1.581139 -1.154701 -0.408248  0.321782  0.106538  2.097272\n",
       "13 -0.632456 -1.154701  2.449490 -0.278878 -0.377202  0.357695"
      ]
     },
     "execution_count": 23,
     "metadata": {},
     "output_type": "execute_result"
    }
   ],
   "source": [
    "pd.DataFrame(X_train)"
   ]
  },
  {
   "cell_type": "code",
   "execution_count": 24,
   "metadata": {},
   "outputs": [
    {
     "data": {
      "text/html": [
       "<div>\n",
       "<style scoped>\n",
       "    .dataframe tbody tr th:only-of-type {\n",
       "        vertical-align: middle;\n",
       "    }\n",
       "\n",
       "    .dataframe tbody tr th {\n",
       "        vertical-align: top;\n",
       "    }\n",
       "\n",
       "    .dataframe thead th {\n",
       "        text-align: right;\n",
       "    }\n",
       "</style>\n",
       "<table border=\"1\" class=\"dataframe\">\n",
       "  <thead>\n",
       "    <tr style=\"text-align: right;\">\n",
       "      <th></th>\n",
       "      <th>0</th>\n",
       "      <th>1</th>\n",
       "      <th>2</th>\n",
       "      <th>3</th>\n",
       "      <th>4</th>\n",
       "      <th>5</th>\n",
       "    </tr>\n",
       "  </thead>\n",
       "  <tbody>\n",
       "    <tr>\n",
       "      <th>0</th>\n",
       "      <td>1.290994</td>\n",
       "      <td>-0.377964</td>\n",
       "      <td>-1.0</td>\n",
       "      <td>0.472400</td>\n",
       "      <td>1.328538</td>\n",
       "      <td>-0.249913</td>\n",
       "    </tr>\n",
       "    <tr>\n",
       "      <th>1</th>\n",
       "      <td>-0.774597</td>\n",
       "      <td>-0.377964</td>\n",
       "      <td>1.0</td>\n",
       "      <td>0.549527</td>\n",
       "      <td>0.204390</td>\n",
       "      <td>-0.649773</td>\n",
       "    </tr>\n",
       "    <tr>\n",
       "      <th>2</th>\n",
       "      <td>-0.774597</td>\n",
       "      <td>-0.377964</td>\n",
       "      <td>1.0</td>\n",
       "      <td>0.703780</td>\n",
       "      <td>0.919757</td>\n",
       "      <td>1.589444</td>\n",
       "    </tr>\n",
       "    <tr>\n",
       "      <th>3</th>\n",
       "      <td>-0.774597</td>\n",
       "      <td>-0.377964</td>\n",
       "      <td>1.0</td>\n",
       "      <td>0.318147</td>\n",
       "      <td>0.613171</td>\n",
       "      <td>0.469836</td>\n",
       "    </tr>\n",
       "    <tr>\n",
       "      <th>4</th>\n",
       "      <td>-0.774597</td>\n",
       "      <td>2.645751</td>\n",
       "      <td>-1.0</td>\n",
       "      <td>-2.535536</td>\n",
       "      <td>-1.737319</td>\n",
       "      <td>-1.929325</td>\n",
       "    </tr>\n",
       "    <tr>\n",
       "      <th>5</th>\n",
       "      <td>1.290994</td>\n",
       "      <td>-0.377964</td>\n",
       "      <td>-1.0</td>\n",
       "      <td>0.626653</td>\n",
       "      <td>0.306586</td>\n",
       "      <td>0.549808</td>\n",
       "    </tr>\n",
       "    <tr>\n",
       "      <th>6</th>\n",
       "      <td>-0.774597</td>\n",
       "      <td>-0.377964</td>\n",
       "      <td>1.0</td>\n",
       "      <td>-0.221739</td>\n",
       "      <td>-0.306586</td>\n",
       "      <td>0.709752</td>\n",
       "    </tr>\n",
       "    <tr>\n",
       "      <th>7</th>\n",
       "      <td>1.290994</td>\n",
       "      <td>-0.377964</td>\n",
       "      <td>-1.0</td>\n",
       "      <td>0.086767</td>\n",
       "      <td>-1.328538</td>\n",
       "      <td>-0.489829</td>\n",
       "    </tr>\n",
       "  </tbody>\n",
       "</table>\n",
       "</div>"
      ],
      "text/plain": [
       "          0         1    2         3         4         5\n",
       "0  1.290994 -0.377964 -1.0  0.472400  1.328538 -0.249913\n",
       "1 -0.774597 -0.377964  1.0  0.549527  0.204390 -0.649773\n",
       "2 -0.774597 -0.377964  1.0  0.703780  0.919757  1.589444\n",
       "3 -0.774597 -0.377964  1.0  0.318147  0.613171  0.469836\n",
       "4 -0.774597  2.645751 -1.0 -2.535536 -1.737319 -1.929325\n",
       "5  1.290994 -0.377964 -1.0  0.626653  0.306586  0.549808\n",
       "6 -0.774597 -0.377964  1.0 -0.221739 -0.306586  0.709752\n",
       "7  1.290994 -0.377964 -1.0  0.086767 -1.328538 -0.489829"
      ]
     },
     "execution_count": 24,
     "metadata": {},
     "output_type": "execute_result"
    }
   ],
   "source": [
    "pd.DataFrame(X_test)"
   ]
  },
  {
   "cell_type": "code",
   "execution_count": null,
   "metadata": {},
   "outputs": [],
   "source": []
  }
 ],
 "metadata": {
  "kernelspec": {
   "display_name": "Python 3",
   "language": "python",
   "name": "python3"
  },
  "language_info": {
   "codemirror_mode": {
    "name": "ipython",
    "version": 3
   },
   "file_extension": ".py",
   "mimetype": "text/x-python",
   "name": "python",
   "nbconvert_exporter": "python",
   "pygments_lexer": "ipython3",
   "version": "3.8.3"
  }
 },
 "nbformat": 4,
 "nbformat_minor": 4
}
